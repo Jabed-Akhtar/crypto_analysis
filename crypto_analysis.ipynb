{
 "cells": [
  {
   "cell_type": "markdown",
   "id": "622ff9f2",
   "metadata": {},
   "source": [
    "@author: Jabed\n",
    ":Date: 05.08.2021\n",
    "\n",
    ":link to Dataset: https://www.kaggle.com/sudalairajkumar/cryptocurrencypricehistory\n",
    "\n",
    "# Cryptocurrencies analysis"
   ]
  },
  {
   "cell_type": "code",
   "execution_count": 37,
   "id": "18a2e44d",
   "metadata": {},
   "outputs": [],
   "source": [
    "from datetime import datetime, timedelta\n",
    "import numpy as np\n",
    "import matplotlib.pyplot as plt\n",
    "from matplotlib import dates as mpl_dates\n",
    "import pandas as pd"
   ]
  },
  {
   "cell_type": "raw",
   "id": "263a56a3",
   "metadata": {},
   "source": [
    "## --------------- Bitcoin-BTC ---------------"
   ]
  },
  {
   "cell_type": "code",
   "execution_count": 38,
   "id": "f197d2e5",
   "metadata": {},
   "outputs": [],
   "source": [
    "data_btc = pd.read_csv(\"archive/coin_Bitcoin.csv\")"
   ]
  },
  {
   "cell_type": "code",
   "execution_count": 49,
   "id": "1219b3d7",
   "metadata": {},
   "outputs": [],
   "source": [
    "dataDate_BTC = data_btc['Date']\n",
    "dataClose_BTC = data_btc['Close']"
   ]
  },
  {
   "cell_type": "code",
   "execution_count": 40,
   "id": "135a08ce",
   "metadata": {},
   "outputs": [],
   "source": [
    "#%matplotlib qt\n",
    "%matplotlib inline"
   ]
  },
  {
   "cell_type": "code",
   "execution_count": 41,
   "id": "caae43a5",
   "metadata": {},
   "outputs": [
    {
     "data": {
      "text/plain": [
       "[<matplotlib.lines.Line2D at 0x7f2b5f1928b0>]"
      ]
     },
     "execution_count": 41,
     "metadata": {},
     "output_type": "execute_result"
    },
    {
     "data": {
      "image/png": "[encoded data removed]",
      "text/plain": [
       "<Figure size 1080x360 with 1 Axes>"
      ]
     },
     "metadata": {
      "needs_background": "light"
     },
     "output_type": "display_data"
    }
   ],
   "source": [
    "fig = plt.figure(figsize=(15, 5)) #(22,12))\n",
    "plt.plot(dataDate_BTC, dataClose_BTC)"
   ]
  },
  {
   "cell_type": "code",
   "execution_count": 43,
   "id": "bdb15002-942b-4601-a1c7-6b81dccb284f",
   "metadata": {},
   "outputs": [],
   "source": [
    "## --------------- BTC vs Etherium-ETH ---------------"
   ]
  },
  {
   "cell_type": "code",
   "execution_count": 51,
   "id": "7bc37e64-f2b7-42e5-ab4e-9eac248f0d94",
   "metadata": {},
   "outputs": [],
   "source": [
    "data_eth = pd.read_csv(\"archive/coin_Ethereum.csv\")"
   ]
  },
  {
   "cell_type": "code",
   "execution_count": 88,
   "id": "e79ecc6f-3257-40b3-b7dd-a7d91b35298f",
   "metadata": {},
   "outputs": [],
   "source": [
    "dataDate_ETH = data_eth['Date']\n",
    "dataClose_ETH = data_eth['Close']"
   ]
  },
  {
   "cell_type": "code",
   "execution_count": 89,
   "id": "90e4da6a-1415-437c-95f6-6632776dd5b7",
   "metadata": {},
   "outputs": [],
   "source": [
    "dataClose_ETH_15 = dataClose_ETH*15"
   ]
  },
  {
   "cell_type": "code",
   "execution_count": 103,
   "id": "5696819a-1b45-4507-bef3-153140f6df26",
   "metadata": {},
   "outputs": [
    {
     "data": {
      "application/vnd.jupyter.widget-view+json": {
       "model_id": "354aadb845714316b97071c0efb2239e",
       "version_major": 2,
       "version_minor": 0
      },
      "text/plain": [
       "Canvas(toolbar=Toolbar(toolitems=[('Home', 'Reset original view', 'home', 'home'), ('Back', 'Back to previous …"
      ]
     },
     "metadata": {},
     "output_type": "display_data"
    },
    {
     "data": {
      "text/plain": [
       "<matplotlib.legend.Legend at 0x7f2b2faa9c10>"
      ]
     },
     "execution_count": 103,
     "metadata": {},
     "output_type": "execute_result"
    }
   ],
   "source": [
    "%matplotlib widget\n",
    "fig = plt.figure(figsize=(18, 8)) #(22,12))\n",
    "plt.plot(dataDate_BTC, dataClose_BTC)\n",
    "plt.plot(dataDate_ETH, dataClose_ETH_15)\n",
    "fig.legend(['Bitcoin-BTC', 'Ethereum-ETH * 15'])"
   ]
  },
  {
   "cell_type": "code",
   "execution_count": 10,
   "id": "910391cf",
   "metadata": {},
   "outputs": [],
   "source": [
    "## --------------- BTC vs Binance Coin-BNB ---------------"
   ]
  },
  {
   "cell_type": "code",
   "execution_count": 64,
   "id": "9ec70881-164f-45b3-afd2-13635d86954c",
   "metadata": {},
   "outputs": [],
   "source": [
    "data_bnb = pd.read_csv(\"archive/coin_BinanceCoin.csv\")"
   ]
  },
  {
   "cell_type": "code",
   "execution_count": 91,
   "id": "7b82bae9-166b-4304-9aa8-0ae92fa967ae",
   "metadata": {},
   "outputs": [],
   "source": [
    "dataDate_BNB = data_bnb['Date']\n",
    "dataClose_BNB = data_bnb['Close']"
   ]
  },
  {
   "cell_type": "code",
   "execution_count": 92,
   "id": "a9486bcd-ed2d-4f18-845e-a0d19aab4ef2",
   "metadata": {},
   "outputs": [],
   "source": [
    "dataClose_BNB_100 = dataClose_BNB*100"
   ]
  },
  {
   "cell_type": "code",
   "execution_count": 104,
   "id": "5daa7eac-5027-4ec8-8a2d-0708c0958b85",
   "metadata": {},
   "outputs": [
    {
     "data": {
      "application/vnd.jupyter.widget-view+json": {
       "model_id": "ef10b8fd865c425a9df021e667109c2c",
       "version_major": 2,
       "version_minor": 0
      },
      "text/plain": [
       "Canvas(toolbar=Toolbar(toolitems=[('Home', 'Reset original view', 'home', 'home'), ('Back', 'Back to previous …"
      ]
     },
     "metadata": {},
     "output_type": "display_data"
    },
    {
     "data": {
      "text/plain": [
       "<matplotlib.legend.Legend at 0x7f2b2d97c3a0>"
      ]
     },
     "execution_count": 104,
     "metadata": {},
     "output_type": "execute_result"
    }
   ],
   "source": [
    "%matplotlib widget\n",
    "fig = plt.figure(figsize=(18, 10)) #(22,12))\n",
    "#plt.subplot(211)\n",
    "#plt.plot(dataDate_BTC, dataClose_BTC)\n",
    "#plt.subplot(212)\n",
    "#plt.plot(dataDate_BNB, dataClose_BNB)\n",
    "#fig.legend(['Bitcoin-BTC', 'Binance-BNB'])\n",
    "plt.plot(dataDate_BTC, dataClose_BTC)\n",
    "plt.plot(dataDate_BNB, dataClose_BNB_100)\n",
    "fig.legend(['Bitcoin-BTC', 'Binance-BNB * 100'])"
   ]
  },
  {
   "cell_type": "code",
   "execution_count": null,
   "id": "6a885fe3-2059-4841-8a43-1785a9497fc3",
   "metadata": {},
   "outputs": [],
   "source": [
    "## --------------- BTC vs Ripple-XRP ---------------"
   ]
  },
  {
   "cell_type": "code",
   "execution_count": 68,
   "id": "4c02b162-9f4c-494c-8b00-4cf271478f8f",
   "metadata": {},
   "outputs": [],
   "source": [
    "data_xrp = pd.read_csv(\"archive/coin_XRP.csv\")"
   ]
  },
  {
   "cell_type": "code",
   "execution_count": 100,
   "id": "ec3c9566-f62e-43e5-919c-96f3ea46ca5f",
   "metadata": {},
   "outputs": [],
   "source": [
    "dataDate_XRP = data_xrp['Date']\n",
    "dataClose_XRP = data_xrp['Close']"
   ]
  },
  {
   "cell_type": "code",
   "execution_count": 101,
   "id": "f8113e08-6dd5-4959-ae51-dbf350be19e0",
   "metadata": {},
   "outputs": [],
   "source": [
    "dataClose_XRP_15000 = dataClose_XRP*15000"
   ]
  },
  {
   "cell_type": "code",
   "execution_count": 105,
   "id": "6c3abc68-d50c-4303-a8ca-04a0c5686342",
   "metadata": {},
   "outputs": [
    {
     "data": {
      "application/vnd.jupyter.widget-view+json": {
       "model_id": "d10e8c9051454ce98c83ff71966a30b7",
       "version_major": 2,
       "version_minor": 0
      },
      "text/plain": [
       "Canvas(toolbar=Toolbar(toolitems=[('Home', 'Reset original view', 'home', 'home'), ('Back', 'Back to previous …"
      ]
     },
     "metadata": {},
     "output_type": "display_data"
    },
    {
     "data": {
      "text/plain": [
       "<matplotlib.legend.Legend at 0x7f2b2baee1c0>"
      ]
     },
     "execution_count": 105,
     "metadata": {},
     "output_type": "execute_result"
    }
   ],
   "source": [
    "%matplotlib widget\n",
    "fig = plt.figure(figsize=(18, 10)) #(22,12))\n",
    "plt.plot(dataDate_BTC, dataClose_BTC)\n",
    "plt.plot(dataDate_XRP, dataClose_XRP_15000)\n",
    "fig.legend(['Bitcoin-BTC', 'Ripple-XRP * 15000'])"
   ]
  },
  {
   "cell_type": "code",
   "execution_count": 106,
   "id": "28b54a3d-11f6-46a0-83b5-eee1f38b27d7",
   "metadata": {},
   "outputs": [],
   "source": [
    "## --------------- BTC vs Stellar-XLM ---------------"
   ]
  },
  {
   "cell_type": "code",
   "execution_count": 107,
   "id": "72fafc93-b4f8-4027-92a8-f821184c6604",
   "metadata": {},
   "outputs": [],
   "source": [
    "data_xlm = pd.read_csv(\"archive/coin_Stellar.csv\")"
   ]
  },
  {
   "cell_type": "code",
   "execution_count": 114,
   "id": "9955a0ac-6c91-4a13-bd06-543e3f8a7d34",
   "metadata": {},
   "outputs": [],
   "source": [
    "dataDate_XLM = data_xlm['Date']\n",
    "dataDate_XLM = data_xlm['Close']"
   ]
  },
  {
   "cell_type": "code",
   "execution_count": 120,
   "id": "fd84ca56-78e9-4807-a277-3d5adf18dc7f",
   "metadata": {},
   "outputs": [
    {
     "data": {
      "text/html": [
       "<div>\n",
       "<style scoped>\n",
       "    .dataframe tbody tr th:only-of-type {\n",
       "        vertical-align: middle;\n",
       "    }\n",
       "\n",
       "    .dataframe tbody tr th {\n",
       "        vertical-align: top;\n",
       "    }\n",
       "\n",
       "    .dataframe thead th {\n",
       "        text-align: right;\n",
       "    }\n",
       "</style>\n",
       "<table border=\"1\" class=\"dataframe\">\n",
       "  <thead>\n",
       "    <tr style=\"text-align: right;\">\n",
       "      <th></th>\n",
       "      <th>SNo</th>\n",
       "      <th>Name</th>\n",
       "      <th>Symbol</th>\n",
       "      <th>Date</th>\n",
       "      <th>High</th>\n",
       "      <th>Low</th>\n",
       "      <th>Open</th>\n",
       "      <th>Close</th>\n",
       "      <th>Volume</th>\n",
       "      <th>Marketcap</th>\n",
       "    </tr>\n",
       "  </thead>\n",
       "  <tbody>\n",
       "    <tr>\n",
       "      <th>0</th>\n",
       "      <td>1</td>\n",
       "      <td>Stellar</td>\n",
       "      <td>XLM</td>\n",
       "      <td>2014-08-06 23:59:59</td>\n",
       "      <td>0.003402</td>\n",
       "      <td>0.002266</td>\n",
       "      <td>0.002373</td>\n",
       "      <td>0.002657</td>\n",
       "      <td>3.581980e+04</td>\n",
       "      <td>9.663695e+05</td>\n",
       "    </tr>\n",
       "    <tr>\n",
       "      <th>1</th>\n",
       "      <td>2</td>\n",
       "      <td>Stellar</td>\n",
       "      <td>XLM</td>\n",
       "      <td>2014-08-07 23:59:59</td>\n",
       "      <td>0.003042</td>\n",
       "      <td>0.002455</td>\n",
       "      <td>0.002686</td>\n",
       "      <td>0.002501</td>\n",
       "      <td>1.428640e+05</td>\n",
       "      <td>1.079148e+06</td>\n",
       "    </tr>\n",
       "    <tr>\n",
       "      <th>2</th>\n",
       "      <td>3</td>\n",
       "      <td>Stellar</td>\n",
       "      <td>XLM</td>\n",
       "      <td>2014-08-08 23:59:59</td>\n",
       "      <td>0.003243</td>\n",
       "      <td>0.002493</td>\n",
       "      <td>0.002493</td>\n",
       "      <td>0.002881</td>\n",
       "      <td>9.370780e+04</td>\n",
       "      <td>1.260109e+06</td>\n",
       "    </tr>\n",
       "    <tr>\n",
       "      <th>3</th>\n",
       "      <td>4</td>\n",
       "      <td>Stellar</td>\n",
       "      <td>XLM</td>\n",
       "      <td>2014-08-09 23:59:59</td>\n",
       "      <td>0.003710</td>\n",
       "      <td>0.002873</td>\n",
       "      <td>0.002884</td>\n",
       "      <td>0.003481</td>\n",
       "      <td>2.335790e+05</td>\n",
       "      <td>1.645185e+06</td>\n",
       "    </tr>\n",
       "    <tr>\n",
       "      <th>4</th>\n",
       "      <td>5</td>\n",
       "      <td>Stellar</td>\n",
       "      <td>XLM</td>\n",
       "      <td>2014-08-10 23:59:59</td>\n",
       "      <td>0.007620</td>\n",
       "      <td>0.003363</td>\n",
       "      <td>0.003497</td>\n",
       "      <td>0.004303</td>\n",
       "      <td>3.527370e+05</td>\n",
       "      <td>2.216012e+06</td>\n",
       "    </tr>\n",
       "    <tr>\n",
       "      <th>...</th>\n",
       "      <td>...</td>\n",
       "      <td>...</td>\n",
       "      <td>...</td>\n",
       "      <td>...</td>\n",
       "      <td>...</td>\n",
       "      <td>...</td>\n",
       "      <td>...</td>\n",
       "      <td>...</td>\n",
       "      <td>...</td>\n",
       "      <td>...</td>\n",
       "    </tr>\n",
       "    <tr>\n",
       "      <th>2522</th>\n",
       "      <td>2523</td>\n",
       "      <td>Stellar</td>\n",
       "      <td>XLM</td>\n",
       "      <td>2021-07-02 23:59:59</td>\n",
       "      <td>0.273359</td>\n",
       "      <td>0.252874</td>\n",
       "      <td>0.269148</td>\n",
       "      <td>0.263427</td>\n",
       "      <td>3.487793e+08</td>\n",
       "      <td>6.118631e+09</td>\n",
       "    </tr>\n",
       "    <tr>\n",
       "      <th>2523</th>\n",
       "      <td>2524</td>\n",
       "      <td>Stellar</td>\n",
       "      <td>XLM</td>\n",
       "      <td>2021-07-03 23:59:59</td>\n",
       "      <td>0.270331</td>\n",
       "      <td>0.259710</td>\n",
       "      <td>0.263304</td>\n",
       "      <td>0.264324</td>\n",
       "      <td>3.310069e+08</td>\n",
       "      <td>6.139464e+09</td>\n",
       "    </tr>\n",
       "    <tr>\n",
       "      <th>2524</th>\n",
       "      <td>2525</td>\n",
       "      <td>Stellar</td>\n",
       "      <td>XLM</td>\n",
       "      <td>2021-07-04 23:59:59</td>\n",
       "      <td>0.272314</td>\n",
       "      <td>0.259118</td>\n",
       "      <td>0.264254</td>\n",
       "      <td>0.268128</td>\n",
       "      <td>3.376196e+08</td>\n",
       "      <td>6.227819e+09</td>\n",
       "    </tr>\n",
       "    <tr>\n",
       "      <th>2525</th>\n",
       "      <td>2526</td>\n",
       "      <td>Stellar</td>\n",
       "      <td>XLM</td>\n",
       "      <td>2021-07-05 23:59:59</td>\n",
       "      <td>0.268272</td>\n",
       "      <td>0.252300</td>\n",
       "      <td>0.268272</td>\n",
       "      <td>0.254456</td>\n",
       "      <td>3.359242e+08</td>\n",
       "      <td>5.910264e+09</td>\n",
       "    </tr>\n",
       "    <tr>\n",
       "      <th>2526</th>\n",
       "      <td>2527</td>\n",
       "      <td>Stellar</td>\n",
       "      <td>XLM</td>\n",
       "      <td>2021-07-06 23:59:59</td>\n",
       "      <td>0.267757</td>\n",
       "      <td>0.253547</td>\n",
       "      <td>0.253931</td>\n",
       "      <td>0.260190</td>\n",
       "      <td>3.604261e+08</td>\n",
       "      <td>6.049985e+09</td>\n",
       "    </tr>\n",
       "  </tbody>\n",
       "</table>\n",
       "<p>2527 rows × 10 columns</p>\n",
       "</div>"
      ],
      "text/plain": [
       "       SNo     Name Symbol                 Date      High       Low      Open  \\\n",
       "0        1  Stellar    XLM  2014-08-06 23:59:59  0.003402  0.002266  0.002373   \n",
       "1        2  Stellar    XLM  2014-08-07 23:59:59  0.003042  0.002455  0.002686   \n",
       "2        3  Stellar    XLM  2014-08-08 23:59:59  0.003243  0.002493  0.002493   \n",
       "3        4  Stellar    XLM  2014-08-09 23:59:59  0.003710  0.002873  0.002884   \n",
       "4        5  Stellar    XLM  2014-08-10 23:59:59  0.007620  0.003363  0.003497   \n",
       "...    ...      ...    ...                  ...       ...       ...       ...   \n",
       "2522  2523  Stellar    XLM  2021-07-02 23:59:59  0.273359  0.252874  0.269148   \n",
       "2523  2524  Stellar    XLM  2021-07-03 23:59:59  0.270331  0.259710  0.263304   \n",
       "2524  2525  Stellar    XLM  2021-07-04 23:59:59  0.272314  0.259118  0.264254   \n",
       "2525  2526  Stellar    XLM  2021-07-05 23:59:59  0.268272  0.252300  0.268272   \n",
       "2526  2527  Stellar    XLM  2021-07-06 23:59:59  0.267757  0.253547  0.253931   \n",
       "\n",
       "         Close        Volume     Marketcap  \n",
       "0     0.002657  3.581980e+04  9.663695e+05  \n",
       "1     0.002501  1.428640e+05  1.079148e+06  \n",
       "2     0.002881  9.370780e+04  1.260109e+06  \n",
       "3     0.003481  2.335790e+05  1.645185e+06  \n",
       "4     0.004303  3.527370e+05  2.216012e+06  \n",
       "...        ...           ...           ...  \n",
       "2522  0.263427  3.487793e+08  6.118631e+09  \n",
       "2523  0.264324  3.310069e+08  6.139464e+09  \n",
       "2524  0.268128  3.376196e+08  6.227819e+09  \n",
       "2525  0.254456  3.359242e+08  5.910264e+09  \n",
       "2526  0.260190  3.604261e+08  6.049985e+09  \n",
       "\n",
       "[2527 rows x 10 columns]"
      ]
     },
     "execution_count": 120,
     "metadata": {},
     "output_type": "execute_result"
    }
   ],
   "source": [
    "data_xlm[:len(dataDate_XLM)]"
   ]
  },
  {
   "cell_type": "code",
   "execution_count": 121,
   "id": "f820798f-7da1-4046-86cf-410c60922523",
   "metadata": {},
   "outputs": [
    {
     "data": {
      "text/html": [
       "<div>\n",
       "<style scoped>\n",
       "    .dataframe tbody tr th:only-of-type {\n",
       "        vertical-align: middle;\n",
       "    }\n",
       "\n",
       "    .dataframe tbody tr th {\n",
       "        vertical-align: top;\n",
       "    }\n",
       "\n",
       "    .dataframe thead th {\n",
       "        text-align: right;\n",
       "    }\n",
       "</style>\n",
       "<table border=\"1\" class=\"dataframe\">\n",
       "  <thead>\n",
       "    <tr style=\"text-align: right;\">\n",
       "      <th></th>\n",
       "      <th>SNo</th>\n",
       "      <th>Name</th>\n",
       "      <th>Symbol</th>\n",
       "      <th>Date</th>\n",
       "      <th>High</th>\n",
       "      <th>Low</th>\n",
       "      <th>Open</th>\n",
       "      <th>Close</th>\n",
       "      <th>Volume</th>\n",
       "      <th>Marketcap</th>\n",
       "    </tr>\n",
       "  </thead>\n",
       "  <tbody>\n",
       "    <tr>\n",
       "      <th>0</th>\n",
       "      <td>1</td>\n",
       "      <td>Bitcoin</td>\n",
       "      <td>BTC</td>\n",
       "      <td>2013-04-29 23:59:59</td>\n",
       "      <td>147.488007</td>\n",
       "      <td>134.000000</td>\n",
       "      <td>134.444000</td>\n",
       "      <td>144.539993</td>\n",
       "      <td>0.000000e+00</td>\n",
       "      <td>1.603769e+09</td>\n",
       "    </tr>\n",
       "    <tr>\n",
       "      <th>1</th>\n",
       "      <td>2</td>\n",
       "      <td>Bitcoin</td>\n",
       "      <td>BTC</td>\n",
       "      <td>2013-04-30 23:59:59</td>\n",
       "      <td>146.929993</td>\n",
       "      <td>134.050003</td>\n",
       "      <td>144.000000</td>\n",
       "      <td>139.000000</td>\n",
       "      <td>0.000000e+00</td>\n",
       "      <td>1.542813e+09</td>\n",
       "    </tr>\n",
       "    <tr>\n",
       "      <th>2</th>\n",
       "      <td>3</td>\n",
       "      <td>Bitcoin</td>\n",
       "      <td>BTC</td>\n",
       "      <td>2013-05-01 23:59:59</td>\n",
       "      <td>139.889999</td>\n",
       "      <td>107.720001</td>\n",
       "      <td>139.000000</td>\n",
       "      <td>116.989998</td>\n",
       "      <td>0.000000e+00</td>\n",
       "      <td>1.298955e+09</td>\n",
       "    </tr>\n",
       "    <tr>\n",
       "      <th>3</th>\n",
       "      <td>4</td>\n",
       "      <td>Bitcoin</td>\n",
       "      <td>BTC</td>\n",
       "      <td>2013-05-02 23:59:59</td>\n",
       "      <td>125.599998</td>\n",
       "      <td>92.281898</td>\n",
       "      <td>116.379997</td>\n",
       "      <td>105.209999</td>\n",
       "      <td>0.000000e+00</td>\n",
       "      <td>1.168517e+09</td>\n",
       "    </tr>\n",
       "    <tr>\n",
       "      <th>4</th>\n",
       "      <td>5</td>\n",
       "      <td>Bitcoin</td>\n",
       "      <td>BTC</td>\n",
       "      <td>2013-05-03 23:59:59</td>\n",
       "      <td>108.127998</td>\n",
       "      <td>79.099998</td>\n",
       "      <td>106.250000</td>\n",
       "      <td>97.750000</td>\n",
       "      <td>0.000000e+00</td>\n",
       "      <td>1.085995e+09</td>\n",
       "    </tr>\n",
       "    <tr>\n",
       "      <th>...</th>\n",
       "      <td>...</td>\n",
       "      <td>...</td>\n",
       "      <td>...</td>\n",
       "      <td>...</td>\n",
       "      <td>...</td>\n",
       "      <td>...</td>\n",
       "      <td>...</td>\n",
       "      <td>...</td>\n",
       "      <td>...</td>\n",
       "      <td>...</td>\n",
       "    </tr>\n",
       "    <tr>\n",
       "      <th>2522</th>\n",
       "      <td>2523</td>\n",
       "      <td>Bitcoin</td>\n",
       "      <td>BTC</td>\n",
       "      <td>2020-03-25 23:59:59</td>\n",
       "      <td>6892.511359</td>\n",
       "      <td>6536.926184</td>\n",
       "      <td>6738.716640</td>\n",
       "      <td>6681.063127</td>\n",
       "      <td>4.459011e+10</td>\n",
       "      <td>1.221740e+11</td>\n",
       "    </tr>\n",
       "    <tr>\n",
       "      <th>2523</th>\n",
       "      <td>2524</td>\n",
       "      <td>Bitcoin</td>\n",
       "      <td>BTC</td>\n",
       "      <td>2020-03-26 23:59:59</td>\n",
       "      <td>6735.463879</td>\n",
       "      <td>6590.962716</td>\n",
       "      <td>6675.170655</td>\n",
       "      <td>6716.440549</td>\n",
       "      <td>3.531980e+10</td>\n",
       "      <td>1.228344e+11</td>\n",
       "    </tr>\n",
       "    <tr>\n",
       "      <th>2524</th>\n",
       "      <td>2525</td>\n",
       "      <td>Bitcoin</td>\n",
       "      <td>BTC</td>\n",
       "      <td>2020-03-27 23:59:59</td>\n",
       "      <td>6793.836197</td>\n",
       "      <td>6466.701806</td>\n",
       "      <td>6719.388974</td>\n",
       "      <td>6469.798135</td>\n",
       "      <td>3.458560e+10</td>\n",
       "      <td>1.183361e+11</td>\n",
       "    </tr>\n",
       "    <tr>\n",
       "      <th>2525</th>\n",
       "      <td>2526</td>\n",
       "      <td>Bitcoin</td>\n",
       "      <td>BTC</td>\n",
       "      <td>2020-03-28 23:59:59</td>\n",
       "      <td>6467.501165</td>\n",
       "      <td>6117.837749</td>\n",
       "      <td>6467.254046</td>\n",
       "      <td>6242.193868</td>\n",
       "      <td>3.488523e+10</td>\n",
       "      <td>1.141837e+11</td>\n",
       "    </tr>\n",
       "    <tr>\n",
       "      <th>2526</th>\n",
       "      <td>2527</td>\n",
       "      <td>Bitcoin</td>\n",
       "      <td>BTC</td>\n",
       "      <td>2020-03-29 23:59:59</td>\n",
       "      <td>6250.467309</td>\n",
       "      <td>5920.086018</td>\n",
       "      <td>6245.624627</td>\n",
       "      <td>5922.043123</td>\n",
       "      <td>2.837369e+10</td>\n",
       "      <td>1.083385e+11</td>\n",
       "    </tr>\n",
       "  </tbody>\n",
       "</table>\n",
       "<p>2527 rows × 10 columns</p>\n",
       "</div>"
      ],
      "text/plain": [
       "       SNo     Name Symbol                 Date         High          Low  \\\n",
       "0        1  Bitcoin    BTC  2013-04-29 23:59:59   147.488007   134.000000   \n",
       "1        2  Bitcoin    BTC  2013-04-30 23:59:59   146.929993   134.050003   \n",
       "2        3  Bitcoin    BTC  2013-05-01 23:59:59   139.889999   107.720001   \n",
       "3        4  Bitcoin    BTC  2013-05-02 23:59:59   125.599998    92.281898   \n",
       "4        5  Bitcoin    BTC  2013-05-03 23:59:59   108.127998    79.099998   \n",
       "...    ...      ...    ...                  ...          ...          ...   \n",
       "2522  2523  Bitcoin    BTC  2020-03-25 23:59:59  6892.511359  6536.926184   \n",
       "2523  2524  Bitcoin    BTC  2020-03-26 23:59:59  6735.463879  6590.962716   \n",
       "2524  2525  Bitcoin    BTC  2020-03-27 23:59:59  6793.836197  6466.701806   \n",
       "2525  2526  Bitcoin    BTC  2020-03-28 23:59:59  6467.501165  6117.837749   \n",
       "2526  2527  Bitcoin    BTC  2020-03-29 23:59:59  6250.467309  5920.086018   \n",
       "\n",
       "             Open        Close        Volume     Marketcap  \n",
       "0      134.444000   144.539993  0.000000e+00  1.603769e+09  \n",
       "1      144.000000   139.000000  0.000000e+00  1.542813e+09  \n",
       "2      139.000000   116.989998  0.000000e+00  1.298955e+09  \n",
       "3      116.379997   105.209999  0.000000e+00  1.168517e+09  \n",
       "4      106.250000    97.750000  0.000000e+00  1.085995e+09  \n",
       "...           ...          ...           ...           ...  \n",
       "2522  6738.716640  6681.063127  4.459011e+10  1.221740e+11  \n",
       "2523  6675.170655  6716.440549  3.531980e+10  1.228344e+11  \n",
       "2524  6719.388974  6469.798135  3.458560e+10  1.183361e+11  \n",
       "2525  6467.254046  6242.193868  3.488523e+10  1.141837e+11  \n",
       "2526  6245.624627  5922.043123  2.837369e+10  1.083385e+11  \n",
       "\n",
       "[2527 rows x 10 columns]"
      ]
     },
     "execution_count": 121,
     "metadata": {},
     "output_type": "execute_result"
    }
   ],
   "source": [
    "data_btc[:len(dataDate_XLM)]"
   ]
  },
  {
   "cell_type": "code",
   "execution_count": 116,
   "id": "a0022ccf-472e-4df1-9e23-8f182a120a35",
   "metadata": {},
   "outputs": [],
   "source": [
    "dataDate_XLM = dataDate_XLM*1500"
   ]
  },
  {
   "cell_type": "code",
   "execution_count": 117,
   "id": "586e1732-c088-4c9f-86c1-76171522df94",
   "metadata": {},
   "outputs": [
    {
     "data": {
      "application/vnd.jupyter.widget-view+json": {
       "model_id": "a9d42e5d93c249b6bd381dd64ed2f778",
       "version_major": 2,
       "version_minor": 0
      },
      "text/plain": [
       "Canvas(toolbar=Toolbar(toolitems=[('Home', 'Reset original view', 'home', 'home'), ('Back', 'Back to previous …"
      ]
     },
     "metadata": {},
     "output_type": "display_data"
    },
    {
     "data": {
      "text/plain": [
       "<matplotlib.legend.Legend at 0x7f2b25b3b040>"
      ]
     },
     "execution_count": 117,
     "metadata": {},
     "output_type": "execute_result"
    }
   ],
   "source": [
    "%matplotlib widget\n",
    "fig = plt.figure(figsize=(18, 10)) #(22,12))\n",
    "plt.plot(dataDate_BTC, dataClose_BTC)\n",
    "plt.plot(dataDate_XLM, dataDate_XLM)\n",
    "fig.legend(['Bitcoin-BTC', 'Stellar-XLM'])"
   ]
  },
  {
   "cell_type": "code",
   "execution_count": null,
   "id": "35ba50d7-258a-4181-ade9-416be2facd0b",
   "metadata": {},
   "outputs": [],
   "source": [
    "## --------------- BTC vs Cardano-ADA ---------------"
   ]
  },
  {
   "cell_type": "code",
   "execution_count": 122,
   "id": "a415b9e3-dfe9-4273-95b5-2ec7b79c12d9",
   "metadata": {},
   "outputs": [],
   "source": [
    "data_ada = pd.read_csv(\"archive/coin_Cardano.csv\")"
   ]
  },
  {
   "cell_type": "code",
   "execution_count": 123,
   "id": "ec6d1492-6d91-450a-8abc-6e618cc2c78f",
   "metadata": {},
   "outputs": [],
   "source": [
    "dataDate_ADA = data_ada['Date']\n",
    "dataClose_ADA = data_ada['Close']"
   ]
  },
  {
   "cell_type": "code",
   "execution_count": 135,
   "id": "1e8db611-bd72-44d1-bc0e-61fbea3b26e1",
   "metadata": {},
   "outputs": [],
   "source": [
    "dataClose_ADA_30000 = dataClose_ADA*30000"
   ]
  },
  {
   "cell_type": "code",
   "execution_count": 137,
   "id": "bcd65222-7719-4a50-8469-abf5e2e6db2c",
   "metadata": {},
   "outputs": [
    {
     "data": {
      "application/vnd.jupyter.widget-view+json": {
       "model_id": "1c8e098672b44253a8a1330a4a9dd7ab",
       "version_major": 2,
       "version_minor": 0
      },
      "text/plain": [
       "Canvas(toolbar=Toolbar(toolitems=[('Home', 'Reset original view', 'home', 'home'), ('Back', 'Back to previous …"
      ]
     },
     "metadata": {},
     "output_type": "display_data"
    },
    {
     "data": {
      "text/plain": [
       "<matplotlib.legend.Legend at 0x7f2b13b6c4f0>"
      ]
     },
     "execution_count": 137,
     "metadata": {},
     "output_type": "execute_result"
    }
   ],
   "source": [
    "%matplotlib widget\n",
    "fig = plt.figure(figsize=(18, 10))\n",
    "plt.plot(dataDate_BTC, dataClose_BTC)\n",
    "plt.plot(dataDate_ADA, dataClose_ADA_30000)\n",
    "fig.legend(['Bitcoin-BTC', 'Cardano-ADA * 30000'])"
   ]
  },
  {
   "cell_type": "code",
   "execution_count": null,
   "id": "05239ea4-bfcf-4dae-a833-06d38e7977e6",
   "metadata": {},
   "outputs": [],
   "source": [
    "## --------------- BTC vs EOS ---------------"
   ]
  },
  {
   "cell_type": "code",
   "execution_count": 139,
   "id": "46743b81-3865-4465-bf41-6f038660caf9",
   "metadata": {},
   "outputs": [],
   "source": [
    "data_eos = pd.read_csv(\"archive/coin_EOS.csv\")"
   ]
  },
  {
   "cell_type": "code",
   "execution_count": 146,
   "id": "865d6d51-4f00-486b-99f2-a456df494b84",
   "metadata": {},
   "outputs": [],
   "source": [
    "dataDate_EOS = data_eos['Date']\n",
    "dataClose_EOS = data_eos['Close']"
   ]
  },
  {
   "cell_type": "code",
   "execution_count": 147,
   "id": "3300d1cc-3055-430a-9696-d442d5dca581",
   "metadata": {},
   "outputs": [],
   "source": [
    "dataClose_EOS_1000 = dataClose_EOS*1000"
   ]
  },
  {
   "cell_type": "code",
   "execution_count": 148,
   "id": "c8ba4271-44e9-4562-a210-8e91093221c3",
   "metadata": {},
   "outputs": [
    {
     "data": {
      "application/vnd.jupyter.widget-view+json": {
       "model_id": "b178fb0aa6c94728b30deab95e586dd2",
       "version_major": 2,
       "version_minor": 0
      },
      "text/plain": [
       "Canvas(toolbar=Toolbar(toolitems=[('Home', 'Reset original view', 'home', 'home'), ('Back', 'Back to previous …"
      ]
     },
     "metadata": {},
     "output_type": "display_data"
    },
    {
     "data": {
      "text/plain": [
       "<matplotlib.legend.Legend at 0x7f2b0db2ce50>"
      ]
     },
     "execution_count": 148,
     "metadata": {},
     "output_type": "execute_result"
    }
   ],
   "source": [
    "%matplotlib widget\n",
    "fig = plt.figure(figsize=(18, 10))\n",
    "plt.plot(dataDate_BTC, dataClose_BTC)\n",
    "plt.plot(dataDate_EOS, dataClose_EOS_1000)\n",
    "fig.legend(['Bitcoin-BTC', 'EOS * 1000'])"
   ]
  },
  {
   "cell_type": "code",
   "execution_count": null,
   "id": "b6bbd077-2ea3-42a5-9895-3d737a304332",
   "metadata": {},
   "outputs": [],
   "source": [
    "## --------------- BTC vs Litecoin-LTC ---------------"
   ]
  },
  {
   "cell_type": "code",
   "execution_count": 149,
   "id": "7d1a0dea-867c-4013-895a-a83e2f26074a",
   "metadata": {},
   "outputs": [],
   "source": [
    "data_ltc = pd.read_csv(\"archive/coin_Litecoin.csv\")"
   ]
  },
  {
   "cell_type": "code",
   "execution_count": 150,
   "id": "25c63ebf-847f-4c82-bce6-6b962dea687b",
   "metadata": {},
   "outputs": [],
   "source": [
    "dataDate_LTC = data_ltc['Date']\n",
    "dataClose_LTC = data_ltc['Close']"
   ]
  },
  {
   "cell_type": "code",
   "execution_count": 161,
   "id": "fb3a6f96-e1d0-4b2c-81ab-084737916624",
   "metadata": {},
   "outputs": [],
   "source": [
    "dataClose_LTC_150 = dataClose_LTC*150"
   ]
  },
  {
   "cell_type": "code",
   "execution_count": 163,
   "id": "074866df-dc6d-4cb4-8501-8809cb289b42",
   "metadata": {},
   "outputs": [
    {
     "data": {
      "application/vnd.jupyter.widget-view+json": {
       "model_id": "1638f0ce6f7b4051816f49df4100d429",
       "version_major": 2,
       "version_minor": 0
      },
      "text/plain": [
       "Canvas(toolbar=Toolbar(toolitems=[('Home', 'Reset original view', 'home', 'home'), ('Back', 'Back to previous …"
      ]
     },
     "metadata": {},
     "output_type": "display_data"
    },
    {
     "data": {
      "text/plain": [
       "<matplotlib.legend.Legend at 0x7f2affc686a0>"
      ]
     },
     "execution_count": 163,
     "metadata": {},
     "output_type": "execute_result"
    }
   ],
   "source": [
    "%matplotlib widget\n",
    "fig = plt.figure(figsize=(18, 10))\n",
    "plt.plot(dataDate_BTC, dataClose_BTC)\n",
    "plt.plot(dataDate_LTC, dataClose_LTC_150)\n",
    "fig.legend(['Bitcoin-BTC', 'Litecoin-LTC * 150'])"
   ]
  },
  {
   "cell_type": "code",
   "execution_count": null,
   "id": "d7f86383-2101-429d-9cfd-ca0037f96fa6",
   "metadata": {},
   "outputs": [],
   "source": [
    "## --------------- BTC vs Polkadot-DOT ---------------"
   ]
  },
  {
   "cell_type": "code",
   "execution_count": 164,
   "id": "83fa4717-3ce2-48cc-a761-21e40e36f6ce",
   "metadata": {},
   "outputs": [],
   "source": [
    "data_dot = pd.read_csv(\"archive/coin_Polkadot.csv\")"
   ]
  },
  {
   "cell_type": "code",
   "execution_count": 165,
   "id": "4744eec5-81bb-4938-9b6a-3c3f325d54ff",
   "metadata": {},
   "outputs": [],
   "source": [
    "dataDate_DOT = data_dot['Date']\n",
    "dataClose_DOT = data_dot['Close']"
   ]
  },
  {
   "cell_type": "code",
   "execution_count": 176,
   "id": "dca4e0f8-837b-4c4d-8f58-34287ffbb46a",
   "metadata": {},
   "outputs": [],
   "source": [
    "dataClose_DOT_1200 = dataClose_DOT*1200"
   ]
  },
  {
   "cell_type": "code",
   "execution_count": 177,
   "id": "a0975305-1020-4d35-be08-adeaa70a5a34",
   "metadata": {},
   "outputs": [
    {
     "data": {
      "application/vnd.jupyter.widget-view+json": {
       "model_id": "23d85b72080b4f5ab43a3802ba7d9886",
       "version_major": 2,
       "version_minor": 0
      },
      "text/plain": [
       "Canvas(toolbar=Toolbar(toolitems=[('Home', 'Reset original view', 'home', 'home'), ('Back', 'Back to previous …"
      ]
     },
     "metadata": {},
     "output_type": "display_data"
    },
    {
     "data": {
      "text/plain": [
       "<matplotlib.legend.Legend at 0x7f2aee4b21f0>"
      ]
     },
     "execution_count": 177,
     "metadata": {},
     "output_type": "execute_result"
    }
   ],
   "source": [
    "%matplotlib widget\n",
    "fig = plt.figure(figsize=(18, 10))\n",
    "plt.plot(dataDate_BTC, dataClose_BTC)\n",
    "plt.plot(dataDate_DOT, dataClose_DOT_1200)\n",
    "fig.legend(['Bitcoin-BTC', 'Polkadot-DOT * 1200'])"
   ]
  },
  {
   "cell_type": "code",
   "execution_count": null,
   "id": "25a4c0a6-6c61-4ea1-be29-4094861e9425",
   "metadata": {},
   "outputs": [],
   "source": [
    "## --------------- BTC vs Solana-SOL ---------------"
   ]
  },
  {
   "cell_type": "code",
   "execution_count": 178,
   "id": "5365c3ee-850c-409b-8fd2-d3a6e27b835d",
   "metadata": {},
   "outputs": [],
   "source": [
    "data_sol = pd.read_csv(\"archive/coin_Solana.csv\")"
   ]
  },
  {
   "cell_type": "code",
   "execution_count": 179,
   "id": "c85c4843-c2fe-415f-b1bd-f361cedd2b45",
   "metadata": {},
   "outputs": [],
   "source": [
    "dataDate_SOL = data_sol['Date']\n",
    "dataClose_SOL = data_sol['Close']"
   ]
  },
  {
   "cell_type": "code",
   "execution_count": 187,
   "id": "7ad64d56-f9d4-43a8-8684-bbeef1f970be",
   "metadata": {},
   "outputs": [],
   "source": [
    "dataClose_SOL_1000 = dataClose_SOL*1000"
   ]
  },
  {
   "cell_type": "code",
   "execution_count": 188,
   "id": "dd77fdc4-9620-45db-bb68-f4f30bf4b34c",
   "metadata": {},
   "outputs": [
    {
     "data": {
      "application/vnd.jupyter.widget-view+json": {
       "model_id": "e7567666c57946339c8428509cdcbefb",
       "version_major": 2,
       "version_minor": 0
      },
      "text/plain": [
       "Canvas(toolbar=Toolbar(toolitems=[('Home', 'Reset original view', 'home', 'home'), ('Back', 'Back to previous …"
      ]
     },
     "metadata": {},
     "output_type": "display_data"
    },
    {
     "data": {
      "text/plain": [
       "<matplotlib.legend.Legend at 0x7f2ae45fcdf0>"
      ]
     },
     "execution_count": 188,
     "metadata": {},
     "output_type": "execute_result"
    }
   ],
   "source": [
    "%matplotlib widget\n",
    "fig = plt.figure(figsize=(18, 10))\n",
    "plt.plot(dataDate_BTC, dataClose_BTC)\n",
    "plt.plot(dataDate_SOL, dataClose_SOL_1000)\n",
    "fig.legend(['Bitcoin-BTC', 'Solana-SOL * 1000'])"
   ]
  },
  {
   "cell_type": "code",
   "execution_count": null,
   "id": "0ee5f8a0-ff40-4b3b-8ba6-35a7625ad298",
   "metadata": {},
   "outputs": [],
   "source": [
    "## --------------- BTC vs Dogecoin-DOGE ---------------"
   ]
  },
  {
   "cell_type": "code",
   "execution_count": 189,
   "id": "99eb39cd-12fc-4001-b5a4-885bf10ceb83",
   "metadata": {},
   "outputs": [],
   "source": [
    "data_doge = pd.read_csv(\"archive/coin_Dogecoin.csv\")"
   ]
  },
  {
   "cell_type": "code",
   "execution_count": 190,
   "id": "85ff9573-45f8-428f-8426-798682d79e4c",
   "metadata": {},
   "outputs": [],
   "source": [
    "dataDate_DOGE = data_doge['Date']\n",
    "dataClose_DOGE = data_doge['Close']"
   ]
  },
  {
   "cell_type": "code",
   "execution_count": 199,
   "id": "6b9649c5-fdff-4f04-9796-163bc5a405f1",
   "metadata": {},
   "outputs": [],
   "source": [
    "dataClose_DOGE_100000 = dataClose_DOGE*100000"
   ]
  },
  {
   "cell_type": "code",
   "execution_count": 202,
   "id": "ec913eed-3759-431f-80ee-4f0f3d397f19",
   "metadata": {},
   "outputs": [
    {
     "data": {
      "application/vnd.jupyter.widget-view+json": {
       "model_id": "b0973b2eeccb47e68fe32e7058892759",
       "version_major": 2,
       "version_minor": 0
      },
      "text/plain": [
       "Canvas(toolbar=Toolbar(toolitems=[('Home', 'Reset original view', 'home', 'home'), ('Back', 'Back to previous …"
      ]
     },
     "metadata": {},
     "output_type": "display_data"
    }
   ],
   "source": [
    "%matplotlib widget\n",
    "fig = plt.figure(figsize=(18, 10));\n",
    "plt.plot(dataDate_BTC, dataClose_BTC);\n",
    "plt.plot(dataDate_DOGE, dataClose_DOGE_100000);\n",
    "fig.legend(['Bitcoin-BTC', 'Dogecoin-DOGE * 100000']);"
   ]
  },
  {
   "cell_type": "code",
   "execution_count": null,
   "id": "1b53706a-4218-4585-bd49-edd76dbe04fd",
   "metadata": {},
   "outputs": [],
   "source": [
    "## --------------- BTC vs Chainlink-LINK ---------------"
   ]
  },
  {
   "cell_type": "code",
   "execution_count": 203,
   "id": "8887daf6-475d-47ac-b4f7-bea912af46de",
   "metadata": {},
   "outputs": [],
   "source": [
    "data_link = pd.read_csv(\"archive/coin_ChainLink.csv\")"
   ]
  },
  {
   "cell_type": "code",
   "execution_count": 204,
   "id": "47905fc2-1d27-4b8b-8d15-594ff710b983",
   "metadata": {},
   "outputs": [],
   "source": [
    "dataDate_LINK = data_link['Date']\n",
    "dataClose_LINK = data_link['Close']"
   ]
  },
  {
   "cell_type": "code",
   "execution_count": 212,
   "id": "1d4478eb-186e-41ac-8e36-762f815a1b65",
   "metadata": {},
   "outputs": [],
   "source": [
    "dataClose_LINK_1000 = dataClose_LINK*1000"
   ]
  },
  {
   "cell_type": "code",
   "execution_count": 213,
   "id": "bda92151-f5c1-484a-b7a6-cf8cd7327ddf",
   "metadata": {},
   "outputs": [
    {
     "data": {
      "application/vnd.jupyter.widget-view+json": {
       "model_id": "a5f2fe39de1c4a44b10cfe42a0075093",
       "version_major": 2,
       "version_minor": 0
      },
      "text/plain": [
       "Canvas(toolbar=Toolbar(toolitems=[('Home', 'Reset original view', 'home', 'home'), ('Back', 'Back to previous …"
      ]
     },
     "metadata": {},
     "output_type": "display_data"
    }
   ],
   "source": [
    "%matplotlib widget\n",
    "fig = plt.figure(figsize=(18, 10));\n",
    "plt.plot(dataDate_BTC, dataClose_BTC);\n",
    "plt.plot(dataDate_LINK, dataClose_LINK_1000);\n",
    "fig.legend(['Bitcoin-BTC', 'Chainlink-LINK * 1000']);"
   ]
  },
  {
   "cell_type": "code",
   "execution_count": null,
   "id": "b40c2014-9666-4a29-993a-f23f53ba2b5d",
   "metadata": {},
   "outputs": [],
   "source": [
    "## --------------- BTC vs USD Coin-USDC ---------------"
   ]
  },
  {
   "cell_type": "code",
   "execution_count": 214,
   "id": "bab6c3d9-0cb3-4a64-a0f1-37baedaa64d0",
   "metadata": {},
   "outputs": [],
   "source": [
    "data_usdc = pd.read_csv(\"archive/coin_USDCoin.csv\")"
   ]
  },
  {
   "cell_type": "code",
   "execution_count": 215,
   "id": "09b0b075-8904-4988-9b37-ea89d192f595",
   "metadata": {},
   "outputs": [],
   "source": [
    "dataDate_USDC = data_usdc['Date']\n",
    "dataClose_USDC = data_usdc['Close']"
   ]
  },
  {
   "cell_type": "code",
   "execution_count": 224,
   "id": "75853d00-21c6-4249-aa0d-f53039e10117",
   "metadata": {},
   "outputs": [],
   "source": [
    "dataClose_USDC_ = dataClose_USDC*10000"
   ]
  },
  {
   "cell_type": "code",
   "execution_count": 225,
   "id": "f1458f23-e72b-4825-8824-cfd96f9c4210",
   "metadata": {},
   "outputs": [
    {
     "data": {
      "application/vnd.jupyter.widget-view+json": {
       "model_id": "c9c80563259043ff8b908c9d0ea84184",
       "version_major": 2,
       "version_minor": 0
      },
      "text/plain": [
       "Canvas(toolbar=Toolbar(toolitems=[('Home', 'Reset original view', 'home', 'home'), ('Back', 'Back to previous …"
      ]
     },
     "metadata": {},
     "output_type": "display_data"
    }
   ],
   "source": [
    "%matplotlib widget\n",
    "fig = plt.figure(figsize=(18, 10));\n",
    "plt.plot(dataDate_BTC, dataClose_BTC);\n",
    "plt.plot(dataDate_USDC, dataClose_USDC_);\n",
    "fig.legend(['Bitcoin-BTC', 'USD Coin-USDC']);"
   ]
  },
  {
   "cell_type": "code",
   "execution_count": null,
   "id": "75375747-c4a0-4504-ab5a-370e2318bb73",
   "metadata": {},
   "outputs": [],
   "source": [
    "## --------------- BTC vs Tether-USDT ---------------"
   ]
  },
  {
   "cell_type": "code",
   "execution_count": 226,
   "id": "a6e571d0-ec2e-4b0b-b7d2-5973e367a1a0",
   "metadata": {},
   "outputs": [],
   "source": [
    "data_usdt = pd.read_csv(\"archive/coin_Tether.csv\")"
   ]
  },
  {
   "cell_type": "code",
   "execution_count": 227,
   "id": "139526b1-74a6-4f5f-a423-9fbf0c66af75",
   "metadata": {},
   "outputs": [],
   "source": [
    "dataDate_USDT = data_usdt['Date']\n",
    "dataClose_USDT = data_usdt['Close']"
   ]
  },
  {
   "cell_type": "code",
   "execution_count": 230,
   "id": "df6a3155-bf49-4cbd-9ee4-66a35a771787",
   "metadata": {},
   "outputs": [],
   "source": [
    "dataClose_USDT_ = dataClose_USDT*5000"
   ]
  },
  {
   "cell_type": "code",
   "execution_count": 231,
   "id": "c1accf7a-6287-4072-9ea1-5e2e4712077b",
   "metadata": {},
   "outputs": [
    {
     "data": {
      "application/vnd.jupyter.widget-view+json": {
       "model_id": "f9b03aa7533048d6bc7ce8ea81b32bd7",
       "version_major": 2,
       "version_minor": 0
      },
      "text/plain": [
       "Canvas(toolbar=Toolbar(toolitems=[('Home', 'Reset original view', 'home', 'home'), ('Back', 'Back to previous …"
      ]
     },
     "metadata": {},
     "output_type": "display_data"
    },
    {
     "data": {
      "text/plain": [
       "<matplotlib.legend.Legend at 0x7f2abfead640>"
      ]
     },
     "execution_count": 231,
     "metadata": {},
     "output_type": "execute_result"
    }
   ],
   "source": [
    "%matplotlib widget\n",
    "fig = plt.figure(figsize=(18, 10))\n",
    "plt.plot(dataDate_BTC, dataClose_BTC)\n",
    "plt.plot(dataDate_USDT, dataClose_USDT_)\n",
    "fig.legend(['Bitcoin-BTC', 'Tether-USDT'])"
   ]
  },
  {
   "cell_type": "code",
   "execution_count": null,
   "id": "336a32d4-baa0-4008-84a5-635cdfac2a0c",
   "metadata": {},
   "outputs": [],
   "source": [
    "## --------------- USD Coin-USDC vs Tether-USDT ---------------"
   ]
  },
  {
   "cell_type": "code",
   "execution_count": 236,
   "id": "3fc3a369-b54c-488e-af75-513e9b8a3754",
   "metadata": {},
   "outputs": [],
   "source": [
    "dataClose_USDT__ = dataClose_USDT_*1.5"
   ]
  },
  {
   "cell_type": "code",
   "execution_count": 238,
   "id": "5e9cc31e-8c80-4fff-a366-aec45aae3472",
   "metadata": {},
   "outputs": [
    {
     "data": {
      "application/vnd.jupyter.widget-view+json": {
       "model_id": "0bdb23d828ee4bab8088aae834db95db",
       "version_major": 2,
       "version_minor": 0
      },
      "text/plain": [
       "Canvas(toolbar=Toolbar(toolitems=[('Home', 'Reset original view', 'home', 'home'), ('Back', 'Back to previous …"
      ]
     },
     "metadata": {},
     "output_type": "display_data"
    }
   ],
   "source": [
    "%matplotlib widget\n",
    "fig = plt.figure(figsize=(18, 10));\n",
    "plt.plot(dataDate_USDC, dataClose_USDC_, 'c');\n",
    "plt.plot(dataDate_USDT, dataClose_USDT__, 'm');\n",
    "fig.legend(['USD Coin-USDC', 'Tether-USDT * 1.5']);"
   ]
  },
  {
   "cell_type": "code",
   "execution_count": null,
   "id": "978831bc-7bf7-4651-bf99-14777860cef1",
   "metadata": {},
   "outputs": [],
   "source": []
  },
  {
   "cell_type": "code",
   "execution_count": null,
   "id": "ae94e158-7656-46ae-81f5-218e63bfb54a",
   "metadata": {},
   "outputs": [],
   "source": [
    "## *************** figure ***************"
   ]
  },
  {
   "cell_type": "code",
   "execution_count": null,
   "id": "b569c6d0-3e22-4f06-b5c0-551ed9f8cf3f",
   "metadata": {},
   "outputs": [],
   "source": [
    "leg1 = fig.legend(loc='lower left')\n",
    "fig.legend(['Bitcoin-BTC', 'Binance Coin-BNB', 'Cardano-ADA'])"
   ]
  },
  {
   "cell_type": "code",
   "execution_count": 138,
   "id": "f06112ae",
   "metadata": {},
   "outputs": [],
   "source": [
    "## ========== END OF FILE =========="
   ]
  },
  {
   "cell_type": "code",
   "execution_count": null,
   "id": "eced3d78-d4e7-4f7c-b993-5d5218f4a35e",
   "metadata": {},
   "outputs": [],
   "source": []
  }
 ],
 "metadata": {
  "kernelspec": {
   "display_name": "Python 3 (ipykernel)",
   "language": "python",
   "name": "python3"
  },
  "language_info": {
   "codemirror_mode": {
    "name": "ipython",
    "version": 3
   },
   "file_extension": ".py",
   "mimetype": "text/x-python",
   "name": "python",
   "nbconvert_exporter": "python",
   "pygments_lexer": "ipython3",
   "version": "3.9.6"
  }
 },
 "nbformat": 4,
 "nbformat_minor": 5
}
